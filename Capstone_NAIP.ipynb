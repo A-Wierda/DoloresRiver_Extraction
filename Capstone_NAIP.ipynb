{
  "nbformat": 4,
  "nbformat_minor": 0,
  "metadata": {
    "colab": {
      "provenance": [],
      "collapsed_sections": [
        "7_9hRehSfFlF",
        "rezkxZmwi46Y",
        "OUdYerxhfY2d",
        "0V3QM_hCW2YX",
        "yKebvigAWQCq",
        "UuAo0r6OulDz",
        "NNWmXFgtOcC9"
      ],
      "include_colab_link": true
    },
    "kernelspec": {
      "name": "python3",
      "display_name": "Python 3"
    },
    "language_info": {
      "name": "python"
    }
  },
  "cells": [
    {
      "cell_type": "markdown",
      "metadata": {
        "id": "view-in-github",
        "colab_type": "text"
      },
      "source": [
        "<a href=\"https://colab.research.google.com/github/A-Wierda/DoloresRiver_Extraction/blob/main/Capstone_NAIP.ipynb\" target=\"_parent\"><img src=\"https://colab.research.google.com/assets/colab-badge.svg\" alt=\"Open In Colab\"/></a>"
      ]
    },
    {
      "cell_type": "markdown",
      "source": [
        "For professor only (Github users can ignore this section)\n",
        "\n",
        "NOTE: Code *not* run & reason\n",
        "\n",
        "1. DEM files because I did not use the ArcGIS streamline to caluculate sinuousity in my final analysis.\n",
        "2. Maps to draw the 2 geometries (dolores_buffered and dolores_river_geo) You only need to run this code once to draw a line and I don't want to redraw my geometries.\n",
        "3. Sinuousity calculations"
      ],
      "metadata": {
        "id": "my88FuSVP0Zi"
      }
    },
    {
      "cell_type": "code",
      "source": [
        "!pip install geemap==0.20.0"
      ],
      "metadata": {
        "collapsed": true,
        "id": "C23MaMgp_Ewk"
      },
      "execution_count": null,
      "outputs": []
    },
    {
      "cell_type": "code",
      "execution_count": null,
      "metadata": {
        "id": "z7gBNSt3AzlE"
      },
      "outputs": [],
      "source": [
        "import geemap #Google earth explorer\n",
        "import ee #earth explorer\n",
        "import ee.batch #this allows us to export DEM data"
      ]
    },
    {
      "cell_type": "code",
      "source": [
        "ee.Authenticate() #I have a real ee account\n",
        "ee.Initialize(project='ee-ajwierda3') #my project in Google Cloud"
      ],
      "metadata": {
        "id": "6b8z4x92A5Et"
      },
      "execution_count": null,
      "outputs": []
    },
    {
      "cell_type": "markdown",
      "source": [
        "### Workflow\n",
        "\n",
        "Geometries\n",
        "1. Download DEM data from GEE for export into ArcGIS to caluclate sinuosity\n",
        "2. Draw and export general Dolores streamline geojson to buffer to clip NAIP imagery (dolores_buffered)\n",
        "3. Draw and export a smaller Dolores geometry geojson to clip to classified imagery to exclude holding ponds and shadows (dolores_river_geo)\n",
        "\n",
        "River Extraction\n",
        "1.NAIP: Aug. 2021-used for test/train models\n",
        "2. Method 1: Remove shadows, NDWI, NLCD mask\n",
        "3. Method 2: NIR mask (#2)\n",
        "4. Method 3: Random Forest Classification (#1)\n",
        "5. Method 4: SVM Classification\n",
        "6. Visual analysis using widgets & accurracy rating, classifcation reports, and confusion matrix\n",
        "\n",
        "Statistical Analysis of Dolores River\n",
        "1. Sinuosity\n",
        "2. Water Pixel count\n",
        "\n",
        "Analysis Per Year\n",
        "1. Load Imagery\n",
        "2. Extract river\n",
        "3. Count pixels"
      ],
      "metadata": {
        "id": "ohKWTq6Uj1HB"
      }
    },
    {
      "cell_type": "markdown",
      "source": [
        "## Geometries"
      ],
      "metadata": {
        "id": "g6dlcVHo3JJb"
      }
    },
    {
      "cell_type": "markdown",
      "source": [
        "### Download DEM data from GEE for export into ArcGIS to caluclate sinuosity"
      ],
      "metadata": {
        "id": "7_9hRehSfFlF"
      }
    },
    {
      "cell_type": "code",
      "source": [
        "#get county boundaries and our aoi\n",
        "colorado_counties = ee.FeatureCollection(\"TIGER/2018/Counties\").filter(ee.Filter.eq('STATEFP', '08'))\n",
        "utah_counties = ee.FeatureCollection(\"TIGER/2018/Counties\").filter(ee.Filter.eq('STATEFP', '49'))\n",
        "\n",
        "# Filter for Dolores (FIPS code '033') and Montezuma (FIPS '083')\n",
        "dolores = colorado_counties.filter(ee.Filter.eq('COUNTYFP', '033'))\n",
        "montezuma = colorado_counties.filter(ee.Filter.eq('COUNTYFP', '083'))\n",
        "mesa = colorado_counties.filter(ee.Filter.eq('COUNTYFP', '077'))\n",
        "san_miguel = colorado_counties.filter(ee.Filter.eq('COUNTYFP', '113'))\n",
        "montrose = colorado_counties.filter(ee.Filter.eq('COUNTYFP', '085'))\n",
        "grand_county = utah_counties.filter(ee.Filter.eq('COUNTYFP', '019'))\n",
        "\n",
        "# Combine all counties into one geometry\n",
        "aoi = dolores.merge(montezuma).merge(mesa).merge(san_miguel).merge(grand_county).merge(montrose)\n",
        "\n",
        "#get DEM (digital elevation model) data at 1m resolution for those counties, year 2018\n",
        "#mosaic to put them all into one image\n",
        "dem = ee.ImageCollection('USGS/3DEP/1m').mosaic()\n",
        "\n",
        "clipped_dem = dem.clip(aoi);\n",
        "\n",
        "#double check that it all looks good on the map\n",
        "m = geemap.Map(center=[37.578517, -108.225418], zoom=12)\n",
        "m.addLayer(clipped_dem, {'min': 1000, 'max': 3000, 'palette': ['blue', 'green', 'brown']}, 'DEM')\n",
        "m.addLayer(aoi, {}, 'County Boundaries')\n",
        "m"
      ],
      "metadata": {
        "id": "KwmdcdCgmK0v",
        "collapsed": true
      },
      "execution_count": null,
      "outputs": []
    },
    {
      "cell_type": "code",
      "source": [
        "#Let's export that to my Drive as a geotiff to get it into ArcGIS\n",
        "task = ee.batch.Export.image.toDrive(\n",
        "    image=clipped_dem,\n",
        "    description='dolores_river_counties_dem',\n",
        "    folder='GEE',\n",
        "    scale=30,\n",
        "    region=aoi.geometry(),\n",
        "    fileFormat='GeoTIFF',\n",
        "    maxPixels= 1e13\n",
        ")\n",
        "task.start()"
      ],
      "metadata": {
        "id": "EOO3F51fjkoO"
      },
      "execution_count": null,
      "outputs": []
    },
    {
      "cell_type": "code",
      "source": [
        "import time\n",
        "while task.active():\n",
        "    print('Exporting... please wait.')\n",
        "    time.sleep(500)\n",
        "print('Export complete!')"
      ],
      "metadata": {
        "id": "A-MKzknFuHBB"
      },
      "execution_count": null,
      "outputs": []
    },
    {
      "cell_type": "markdown",
      "source": [
        "In ArcGIS, I selected line features for the upper and lower Dolores and exported shapefiles for both the upper and lower Dolores."
      ],
      "metadata": {
        "id": "ACdjFkJrjXIc"
      }
    },
    {
      "cell_type": "markdown",
      "source": [
        "Upload upper and lower shapefiles"
      ],
      "metadata": {
        "id": "jTkNNxeFip76"
      }
    },
    {
      "cell_type": "code",
      "source": [
        "!pip install pycrs"
      ],
      "metadata": {
        "id": "N81BGGtKY-K4"
      },
      "execution_count": null,
      "outputs": []
    },
    {
      "cell_type": "code",
      "source": [
        "import pycrs\n",
        "#upload shapefiles of river line for both upper and lower Dolores\n",
        "upper_dolores = geemap.shp_to_ee('/content/Steamline_Upper Dolores.shp')\n",
        "lower_dolores = geemap.shp_to_ee('/content/Streamline_Lower Dolores.shp')"
      ],
      "metadata": {
        "id": "LNk0T2hRZes7"
      },
      "execution_count": null,
      "outputs": []
    },
    {
      "cell_type": "markdown",
      "source": [
        "In the analysis section, I was able to use the shapefiles to calculate the sinuousity of the upper and lower Dolores.\n",
        "\n",
        "Result: lower Dolores is more sinuous (probably due to the canyons it flows through)."
      ],
      "metadata": {
        "id": "vDjmpC_Uj4D_"
      }
    },
    {
      "cell_type": "markdown",
      "source": [
        "### Draw and export general Dolores streamline geojson to buffer to clip NAIP imagery\n",
        "\n",
        "The shapefile from ArcGIS is too complex to buffer\n",
        "\n",
        "dolores_buffered"
      ],
      "metadata": {
        "id": "rezkxZmwi46Y"
      }
    },
    {
      "cell_type": "code",
      "source": [
        "# 1. Create an interactive map and draw the Dolores\n",
        "m = geemap.Map(center=(37.578517, -108.225418), zoom=10)\n",
        "\n",
        "# Add drawing controls to allow user to draw a river\n",
        "m.addLayerControl()  # Allows turning layers on/off\n",
        "m.add_basemap('SATELLITE')  # NAIP-like satellite imagery\n",
        "m.add_draw_control()  # Adds a drawing tool for users\n",
        "\n",
        "# Display the map\n",
        "m"
      ],
      "metadata": {
        "id": "2_8jlSWJjLYh"
      },
      "execution_count": null,
      "outputs": []
    },
    {
      "cell_type": "code",
      "source": [
        "# 2.export it to gejson using last drawn feature\n",
        "\n",
        "# Retrieve the last drawn feature\n",
        "feature = m.draw_last_feature\n",
        "\n",
        "if feature is not None:\n",
        "    # Convert the feature to a FeatureCollection\n",
        "    feature_collection = ee.FeatureCollection([feature])\n",
        "\n",
        "    # Define the output file path\n",
        "    out_file = 'drawn_feature.geojson'\n",
        "\n",
        "    # Export the FeatureCollection to a GeoJSON file\n",
        "    geemap.ee_export_vector(feature_collection, filename=out_file)\n",
        "    print(f\"Feature exported to {out_file}\")\n",
        "else:\n",
        "    print(\"No feature drawn.\")"
      ],
      "metadata": {
        "id": "dTREEzzxjOWy"
      },
      "execution_count": null,
      "outputs": []
    },
    {
      "cell_type": "code",
      "source": [
        "# 3.import geojson\n",
        "\n",
        "# Define the path to your GeoJSON file\n",
        "geojson_file = '/content/drawn_feature.geojson'\n",
        "\n",
        "# Convert the GeoJSON file to an Earth Engine FeatureCollection\n",
        "dolores_river_fc = geemap.geojson_to_ee(geojson_file)\n",
        "\n",
        "# Verify the FeatureCollection via coordinates\n",
        "print(dolores_river_fc.getInfo())"
      ],
      "metadata": {
        "id": "BzhBmAoIjRCn"
      },
      "execution_count": null,
      "outputs": []
    },
    {
      "cell_type": "code",
      "source": [
        "# 4. Buffer the line geometry of the Dolores River\n",
        "\n",
        "buffer_size = 500  #this is in meters ;)\n",
        "dolores_buffered = dolores_river_fc.map(lambda feature: feature.buffer(buffer_size)) #check out that cool in-line lambda function!\n",
        "\n",
        "# Verify via info\n",
        "print(dolores_buffered.getInfo())"
      ],
      "metadata": {
        "id": "_kqAoT82jTGi"
      },
      "execution_count": null,
      "outputs": []
    },
    {
      "cell_type": "markdown",
      "source": [
        "### Draw and export a smaller Dolores geometry geojson to clip to classified imagery to exclude holding ponds and shadows\n",
        "\n",
        "dolores_river_geo"
      ],
      "metadata": {
        "id": "OUdYerxhfY2d"
      }
    },
    {
      "cell_type": "code",
      "source": [
        "# 1. Create an interactive map\n",
        "#try to draw shape close to river to exclude shadows\n",
        "\n",
        "m = geemap.Map(center=(37.578517, -108.225418), zoom=10)\n",
        "\n",
        "# Add drawing controls to allow user to draw a river\n",
        "m.addLayerControl()  # Allows turning layers on/off\n",
        "m.add_basemap('SATELLITE')  # NAIP-like satellite imagery\n",
        "m.add_draw_control()  # Adds a drawing tool for users\n",
        "\n",
        "# Display the map\n",
        "m\n"
      ],
      "metadata": {
        "id": "h5QZ8CAe5YJe",
        "collapsed": true
      },
      "execution_count": null,
      "outputs": []
    },
    {
      "cell_type": "code",
      "source": [
        "# 2. Retrieve the last drawn feature and export it\n",
        "feature = m.draw_last_feature\n",
        "\n",
        "if feature is not None:\n",
        "    # Convert the feature to a FeatureCollection\n",
        "    feature_collection = ee.FeatureCollection([feature])\n",
        "\n",
        "    # Define the output file path\n",
        "    out_file = 'river_clipped.geojson'\n",
        "\n",
        "    # Export the FeatureCollection to a GeoJSON file\n",
        "    geemap.ee_export_vector(feature_collection, filename=out_file)\n",
        "    print(f\"Feature exported to {out_file}\")\n",
        "else:\n",
        "    print(\"No feature drawn.\")"
      ],
      "metadata": {
        "id": "3pJb_MKwB1If"
      },
      "execution_count": null,
      "outputs": []
    },
    {
      "cell_type": "code",
      "source": [
        "# 3.import geojson\n",
        "\n",
        "# Define the path to your GeoJSON file\n",
        "geojson_file = '/content/river_clipped.geojson'\n",
        "\n",
        "# Convert the GeoJSON file to an Earth Engine FeatureCollection\n",
        "dolores_river_geo = geemap.geojson_to_ee(geojson_file)\n",
        "\n",
        "# Verify the FeatureCollection via coordinates\n",
        "print(dolores_river_geo.getInfo())"
      ],
      "metadata": {
        "id": "UXKEdenq2rzj"
      },
      "execution_count": null,
      "outputs": []
    },
    {
      "cell_type": "markdown",
      "source": [
        "## River Extraction"
      ],
      "metadata": {
        "id": "0V3QM_hCW2YX"
      }
    },
    {
      "cell_type": "markdown",
      "source": [
        "#### NAIP: Aug. 2021-used for test/train models"
      ],
      "metadata": {
        "id": "yKebvigAWQCq"
      }
    },
    {
      "cell_type": "code",
      "source": [
        "# Load NAIP imagery (0.6-meter resolution)\n",
        "naip = ee.ImageCollection(\"USDA/NAIP/DOQQ\") \\\n",
        "    .filterBounds(dolores_buffered) \\\n",
        "    .filterDate('2021-08-01', '2021-08-30') \\\n",
        "    .median()\n",
        "\n",
        "# Clip to the buffered area\n",
        "naip_clipped_21 = naip.clip(dolores_buffered)\n",
        "\n",
        "#This was to remove shadows, unecessary in final model selection of Random Forest\n",
        "#naip_rgbn = naip_clipped_21.select('R','G','B','N')\n",
        "\n",
        "# Verify via image details\n",
        "print(naip_clipped_21.getInfo())"
      ],
      "metadata": {
        "id": "Yebni8EnWPys"
      },
      "execution_count": null,
      "outputs": []
    },
    {
      "cell_type": "markdown",
      "source": [
        "Naip variables= naip_clipped_last 2 of the year\n",
        "For example, 2009 = naip_clipped_09\n",
        "Years: 2009, 2011, 2013, 2015, 2017, 2019, 2021, 2023"
      ],
      "metadata": {
        "id": "k-Dxy-_6W-43"
      }
    },
    {
      "cell_type": "markdown",
      "source": [
        "### Method 1: Remove Shadows with Thresholding & Masking + NDWI + NLCD masking to remove urban"
      ],
      "metadata": {
        "id": "UuAo0r6OulDz"
      }
    },
    {
      "cell_type": "markdown",
      "source": [
        "Issues:\n",
        "1. shadows on the river are eliminated and some of the shadowed parts of the river are not captured.\n",
        "2. near the town, some of the river is not captured.\n"
      ],
      "metadata": {
        "id": "4K135gBHPBEp"
      }
    },
    {
      "cell_type": "code",
      "source": [
        "#create a map to visualize the process as it happens\n",
        "#map centered at the Dolores River\n",
        "m1 = geemap.Map(center=[37.578517, -108.225418], zoom=12)\n",
        "m1.addLayer(naip_clipped_21, {\"bands\": [\"R\", \"G\", \"B\"], \"min\": 0, \"max\": 255}, \"NAIP Imagery 2021\")\n",
        "m1\n"
      ],
      "metadata": {
        "id": "cpghbcCeNdmD",
        "collapsed": true
      },
      "execution_count": null,
      "outputs": []
    },
    {
      "cell_type": "markdown",
      "source": [
        "Remove shadows using RGB bands"
      ],
      "metadata": {
        "id": "XnM2XZ6ECKak"
      }
    },
    {
      "cell_type": "code",
      "source": [
        "#Create grayscale\n",
        "#Select RGB bands\n",
        "rgb = naip_clipped_21.select(['R', 'G', 'B'])\n",
        "\n",
        "# Calculate average of RGB bands\n",
        "grayscale = rgb.reduce(ee.Reducer.mean()).rename('grayscale')\n",
        "\n",
        "# Create a new image with the grayscale band\n",
        "naip_grayscale = naip.addBands(grayscale)\n"
      ],
      "metadata": {
        "id": "OBW-D52QurwJ"
      },
      "execution_count": null,
      "outputs": []
    },
    {
      "cell_type": "code",
      "source": [
        "#remove shadows with mask\n",
        "# Set a threshold for shadow detection (adjust this value)\n",
        "shadow_threshold = 50\n",
        "\n",
        "# Create a shadow mask (pixels below the threshold are shadows)\n",
        "shadow_mask = naip_grayscale.select('grayscale').lt(shadow_threshold)\n",
        "\n",
        "# Mask the original NAIP image using the shadow mask\n",
        "naip_no_shadows = naip.updateMask(shadow_mask.Not())\n",
        "\n",
        "# Visualize the result (see above)\n",
        "m1.addLayer(naip_no_shadows, {'bands': ['R', 'G', 'B'], 'min': 0, 'max': 255}, 'NAIP No Shadows')"
      ],
      "metadata": {
        "collapsed": true,
        "id": "Z2fwdsKxwSr1"
      },
      "execution_count": null,
      "outputs": []
    },
    {
      "cell_type": "markdown",
      "source": [
        "Compute the Normalized Difference Water Index"
      ],
      "metadata": {
        "id": "MvSTGtMwOMAJ"
      }
    },
    {
      "cell_type": "code",
      "source": [
        "# Compute NDWI (Normalized Difference Water Index)\n",
        "ndwi = naip_no_shadows.normalizedDifference([\"G\", \"N\"]).rename(\"NDWI\")\n",
        "\n",
        "# Create a binary mask for water (NDWI > 0.1 =>1= True, means its water; NDWI < 0.1 =>0= False)\n",
        "water_mask = ndwi.gt(0.1)\n",
        "\n",
        "# Print mask details\n",
        "print(water_mask.getInfo())\n",
        "\n",
        "#add to map\n",
        "m1.addLayer(water_mask.selfMask(), {\"palette\": \"blue\"}, \"Water Mask\")"
      ],
      "metadata": {
        "id": "7uez4_YLwhNd"
      },
      "execution_count": null,
      "outputs": []
    },
    {
      "cell_type": "markdown",
      "source": [
        "Create a NLCD mask to exclude town of Dolores because the NDWI was not able to exclude it."
      ],
      "metadata": {
        "id": "OwbaAl2XOPfF"
      }
    },
    {
      "cell_type": "code",
      "source": [
        "#Create NLCD mask to exclude: snow, pasture/hay, cultivated crops, developed of any type\n",
        "\n",
        "# Load NLCD land cover (2019)\n",
        "nlcd = ee.Image(\"USGS/NLCD_RELEASES/2019_REL/NLCD/2019\").select(\"landcover\")\n",
        "\n",
        "# Define classes to exclude: snow, pasture/hay, cultivated crops, developed of any type\n",
        "excluded_classes = nlcd.eq(12).Or(nlcd.eq(21)).Or(nlcd.eq(22)).Or(nlcd.eq(23)).Or(nlcd.eq(24)).Or(nlcd.eq(81)).Or(nlcd.eq(82))\n",
        "\n",
        "# Create the mask: Keep everything EXCEPT the excluded classes\n",
        "clean_ndwi = ndwi.updateMask(excluded_classes.Not())\n",
        "\n",
        "#add the ndwi and the nlcd mask\n",
        "m1.add_layer(clean_ndwi.selfMask(), {\"palette\": \"blue\"}, \"Water + NLCD Mask\")"
      ],
      "metadata": {
        "id": "NBYC67obMMA-"
      },
      "execution_count": null,
      "outputs": []
    },
    {
      "cell_type": "markdown",
      "source": [
        "### Method 2: Use NIR Band water mask & use smaller Dolores River geo (2nd place)\n",
        "\n",
        "\n",
        "Issues:\n",
        "\n",
        "1. there are still big shadows (removing as them as in Method 1 takes away too much of the river).\n",
        "2. Lots of noise"
      ],
      "metadata": {
        "id": "NNWmXFgtOcC9"
      }
    },
    {
      "cell_type": "code",
      "source": [
        "# 1. create a map to visualize the process as it happens\n",
        "#map centered at the Dolores River\n",
        "m2 = geemap.Map(center=[37.578517, -108.225418], zoom=12)\n",
        "m2.addLayer(naip_clipped_21, {\"bands\": [\"R\", \"G\", \"B\"], \"min\": 0, \"max\": 255}, \"NAIP Imagery 2021\")\n",
        "m2"
      ],
      "metadata": {
        "id": "U1DhLX4Q2cOF",
        "collapsed": true
      },
      "execution_count": null,
      "outputs": []
    },
    {
      "cell_type": "code",
      "source": [
        "#2. Create grayscale\n",
        "#Select RGB bands\n",
        "rgb = naip_clipped_21.select(['R', 'G', 'B'])\n",
        "\n",
        "# Calculate average of RGB bands\n",
        "grayscale = rgb.reduce(ee.Reducer.mean()).rename('grayscale')\n",
        "\n",
        "# Create a new image with the grayscale band\n",
        "naip_grayscale = naip.addBands(grayscale)\n",
        "\n",
        "# 3. remove shadows with mask\n",
        "# Set a threshold for shadow detection (adjust this value)\n",
        "shadow_threshold = 50\n",
        "\n",
        "# Create a shadow mask (pixels below the threshold are shadows)\n",
        "shadow_mask = naip_grayscale.select('grayscale').lt(shadow_threshold)\n",
        "\n",
        "# Mask the original NAIP image using the shadow mask\n",
        "naip_no_shadows = naip.updateMask(shadow_mask.Not())\n",
        "\n",
        "# Visualize the results of naip without shadows (see above)\n",
        "m2.addLayer(naip_no_shadows, {'bands': ['R', 'G', 'B'], 'min': 0, 'max': 255}, 'NAIP No Shadows')"
      ],
      "metadata": {
        "id": "XCLlt73-6LyW"
      },
      "execution_count": null,
      "outputs": []
    },
    {
      "cell_type": "code",
      "source": [
        "# 3. Create water mask, apply it to naip without shadows and naip with shadows, and visualize on map\n",
        "# Compare and contrast via visual inspection\n",
        "# With shadows for the win!!\n",
        "\n",
        "#threshold for water at 40 based on trial and error/histogram below\n",
        "\n",
        "# Naip w/ shadows-create mask for NIR band\n",
        "naip_shadows_nir = naip_clipped_21.select('N')\n",
        "water_mask_shadow = naip_shadows_nir.lt(40)\n",
        "river_shadows = naip_shadows_nir.updateMask(water_mask_shadow)\n",
        "\n",
        "#clip to narrow geometry of Dolores River\n",
        "river_shadows = river_shadows.clipToCollection(dolores_river_geo)\n",
        "\n",
        "m2.addLayer(river_shadows, {'bands':['N'], 'min':0, 'max':255, 'palette':['blue', 'white']}, \"Dolores River w/ Shadows\")"
      ],
      "metadata": {
        "id": "9PJmXc_JHd1P"
      },
      "execution_count": null,
      "outputs": []
    },
    {
      "cell_type": "markdown",
      "source": [
        "Use a histogram to get an idea of the best threshold value for NIR band"
      ],
      "metadata": {
        "id": "OiMk3Ht5NsUW"
      }
    },
    {
      "cell_type": "code",
      "source": [
        "histogram = naip_shadows_nir.reduceRegion(\n",
        "    reducer=ee.Reducer.histogram(255),\n",
        "    geometry=dolores_buffered.geometry(),\n",
        "    scale=1,\n",
        "    maxPixels=1e11\n",
        ").get('N').getInfo()\n"
      ],
      "metadata": {
        "id": "6QUd_5eZ94_k"
      },
      "execution_count": null,
      "outputs": []
    },
    {
      "cell_type": "code",
      "source": [
        "import matplotlib.pyplot as plt\n",
        "# Extract histogram data\n",
        "hist_values = histogram['histogram']\n",
        "hist_bins = histogram['bucketMeans']\n",
        "\n",
        "# Plot\n",
        "plt.figure(figsize=(10, 6))\n",
        "plt.bar(hist_bins, hist_values, width=1.0, color='purple')\n",
        "plt.title('NIR Reflectance Histogram (0–255)')\n",
        "plt.xlabel('Pixel Value')\n",
        "plt.ylabel('Frequency')\n",
        "plt.grid(True)\n",
        "plt.show()"
      ],
      "metadata": {
        "id": "-atCZJ6S-yoK"
      },
      "execution_count": null,
      "outputs": []
    },
    {
      "cell_type": "markdown",
      "source": [
        "### Method 3: Machine Learning: Random Forest + object based removel to clear noise (1st Place)\n",
        "\n",
        "Best model 95% accuracy"
      ],
      "metadata": {
        "id": "jx-4KmgKp6pC"
      }
    },
    {
      "cell_type": "code",
      "source": [
        "# 1. Create a map to visualize process\n",
        "m3 = geemap.Map(center=[37.578517, -108.225418], zoom=12)\n",
        "m3.addLayer(naip_clipped_21, {\"bands\": [\"R\", \"G\", \"B\"], \"min\": 0, \"max\": 255}, \"NAIP Imagery 2021\")\n",
        "m3"
      ],
      "metadata": {
        "id": "vRRmUIx1QCYS",
        "collapsed": true
      },
      "execution_count": null,
      "outputs": []
    },
    {
      "cell_type": "markdown",
      "source": [
        "#### Visualize trained model, clip, & remove noise"
      ],
      "metadata": {
        "id": "sn3WkgSd0cUT"
      }
    },
    {
      "cell_type": "code",
      "source": [
        "# 1. Train the Random Forest Model using created training points from NAIP 2021 imagry\n",
        "\n",
        "#get training points (just the lat/long and class) from my GEE assets\n",
        "training_points = ee.data.getAsset(\"users/ajwierda3/NAIP_Dolores_training_points\")\n",
        "\n",
        "# Convert the table asset to a FeatureCollection\n",
        "training_points = ee.FeatureCollection(training_points['id'])\n",
        "\n",
        "#Make the sample training data to connect the NAIP bands to the class (0=land, 1=water)\n",
        "bands = ['R', 'G', 'B', 'N']\n",
        "\n",
        "samples = naip_clipped_21.select(bands).sampleRegions(\n",
        "    collection=training_points,\n",
        "    properties=['class'],  # 0 = land, 1 = water\n",
        "    scale=1\n",
        ")\n",
        "\n",
        "#Here's the action: let's train our classifier to predict the class based on the bands of the sample training data\n",
        "classifier = ee.Classifier.smileRandomForest(50).train(\n",
        "    features=samples,\n",
        "    classProperty='class',\n",
        "    inputProperties=bands\n",
        ")\n"
      ],
      "metadata": {
        "id": "7bcz9duVqRvI"
      },
      "execution_count": null,
      "outputs": []
    },
    {
      "cell_type": "code",
      "source": [
        "# 2. Classify  and clip NAIP 2021 to smaller Dolores geometry\n",
        "classified = naip_clipped_21.select(bands).classify(classifier)\n",
        "#classified.getInfo()\n",
        "\n",
        "#clip the classified naip to the Dolores River geometry.\n",
        "classified_naip_21 = classified.clip(dolores_river_geo)"
      ],
      "metadata": {
        "id": "3JE-zvu_sIEX"
      },
      "execution_count": null,
      "outputs": []
    },
    {
      "cell_type": "code",
      "source": [
        "# 3. object based removal to remove noise\n",
        "\n",
        "#Find the connected pixels of the same classification (up, down, left, and right)\n",
        "connected = classified_naip_21.connectedComponents(\n",
        "    connectedness=ee.Kernel.plus(1),\n",
        "    maxSize=128\n",
        ")\n",
        "\n",
        "# Get the pixel count for each connected component\n",
        "water_sizes = connected.select('labels').connectedPixelCount(128, True)\n",
        "\n",
        "# Keep only objects with more than 10 pixels\n",
        "dolores_river = classified_naip_21.updateMask(water_sizes.gte(10))\n",
        "\n",
        "#put it on the map-that liquid gold of water\n",
        "m3.addLayer(dolores_river.selfMask(), {\"palette\": \"blue\"}, \"Dolores River\")"
      ],
      "metadata": {
        "id": "1DWqsc4iAjOO"
      },
      "execution_count": null,
      "outputs": []
    },
    {
      "cell_type": "markdown",
      "source": [
        "#### Evaluate Model using accuracy, classifcation report, and confusion matrix\n",
        "\n",
        "It passed the visual inspection, now let's dive deeper."
      ],
      "metadata": {
        "id": "Ti5HgCcH9-EZ"
      }
    },
    {
      "cell_type": "code",
      "source": [
        "#1. Prepare and process training points\n",
        "\n",
        "#get training points (just the lat/long and class) from my GEE assets\n",
        "training_points = ee.data.getAsset(\"users/ajwierda3/NAIP_Dolores_training_points\")\n",
        "\n",
        "# Convert the table asset to a FeatureCollection\n",
        "training_points = ee.FeatureCollection(training_points['id'])\n",
        "\n",
        "bands = ['R', 'G', 'B', 'N']\n",
        "\n",
        "#the training geometry points are added to 'samples' that includes the NAIP bands, the class (0=land, 1=water), and the geometries\n",
        "samples = naip_clipped_21.select(bands).sampleRegions(\n",
        "    collection=training_points,\n",
        "    properties=['class'],\n",
        "    scale=1\n",
        ")\n",
        "#'id' is the index, has the DN of each band and its 'class' (0,land and 1,water)\n",
        "#samples.getInfo()\n",
        "\n",
        "# create test/train (70/30)\n",
        "training_points = samples.randomColumn('random')\n",
        "training_fc = training_points.filter(ee.Filter.lt('random', 0.7))\n",
        "testing_fc = training_points.filter(ee.Filter.gte('random', 0.7))\n"
      ],
      "metadata": {
        "collapsed": true,
        "id": "gU5br0O3vm-2"
      },
      "execution_count": null,
      "outputs": []
    },
    {
      "cell_type": "code",
      "source": [
        "# 3. Train classifier with training points & test classifier with testing points\n",
        "\n",
        "# train classifier with training points\n",
        "classifier = ee.Classifier.smileRandomForest(50).train(\n",
        "    features=training_fc,\n",
        "    classProperty='class',\n",
        "    inputProperties=bands\n",
        ")\n",
        "\n",
        "# test it with testing points\n",
        "classified_test = testing_fc.classify(classifier)\n",
        "\n",
        "# 'classification' is a new column that has the class according to the classifier\n",
        "#classified_test.getInfo()"
      ],
      "metadata": {
        "id": "a9ywAiUa4L51",
        "collapsed": true
      },
      "execution_count": null,
      "outputs": []
    },
    {
      "cell_type": "code",
      "source": [
        "# 4. Evaluate the model\n",
        "\n",
        "# split the testing data it the 'class' (the actual value) and 'classification' (the value predicted by the classifier)\n",
        "# Get class values as a list\n",
        "y_test = classified_test.aggregate_array('class').getInfo()\n",
        "y_pred = classified_test.aggregate_array('classification').getInfo()\n",
        "\n",
        "# Evaluate\n",
        "from sklearn.metrics import accuracy_score, classification_report, confusion_matrix\n",
        "\n",
        "print(\"Accuracy:\", accuracy_score(y_test, y_pred))\n",
        "print(\"ClassificationReport:\\n\", classification_report(y_test, y_pred))\n",
        "print(\"Confusion Matrix:\\n\", confusion_matrix(y_test, y_pred))"
      ],
      "metadata": {
        "id": "pQeFreaYvsqF"
      },
      "execution_count": null,
      "outputs": []
    },
    {
      "cell_type": "markdown",
      "source": [
        "### Method 4: Machine Learning Support Vector Machine (SVM)\n",
        "\n",
        "94% accuracy"
      ],
      "metadata": {
        "id": "_MOvDSlV1mUI"
      }
    },
    {
      "cell_type": "code",
      "source": [
        "# 1. Create a map to visualize process\n",
        "m4 = geemap.Map(center=[37.578517, -108.225418], zoom=12)\n",
        "m4.addLayer(naip_clipped_21, {\"bands\": [\"R\", \"G\", \"B\"], \"min\": 0, \"max\": 255}, \"NAIP Imagery 2021\")\n",
        "m4"
      ],
      "metadata": {
        "id": "vYyEy_72oV44"
      },
      "execution_count": null,
      "outputs": []
    },
    {
      "cell_type": "markdown",
      "source": [
        "#### Visual trained model, clip, and remove noise"
      ],
      "metadata": {
        "id": "H0n-xbUUoOzu"
      }
    },
    {
      "cell_type": "code",
      "source": [
        "# 2. Train the SVM Model using created training points from NAIP 2021 imagry\n",
        "\n",
        "#get training points (just the lat/long and class) from my GEE assets\n",
        "training_points = ee.data.getAsset(\"users/ajwierda3/NAIP_Dolores_training_points\")\n",
        "\n",
        "# Convert the table asset to a FeatureCollection\n",
        "training_points = ee.FeatureCollection(training_points['id'])\n",
        "\n",
        "#Make the sample training data to connect the NAIP bands to the class (0=land, 1=water)\n",
        "bands = ['R', 'G', 'B', 'N']\n",
        "\n",
        "samples = naip_clipped_21.select(bands).sampleRegions(\n",
        "    collection=training_points,\n",
        "    properties=['class'],  # 0 = land, 1 = water\n",
        "    scale=1\n",
        ")\n",
        "\n",
        "#Here's the action: let's train our classifier to predict the class based on the bands of the sample training data\n",
        "classifier = ee.Classifier.libsvm().train(\n",
        "    features=samples,\n",
        "    classProperty='class',\n",
        "    inputProperties=bands\n",
        ")\n",
        "\n",
        "# 2. Classify  and clip NAIP 2021 to smaller Dolores geometry\n",
        "classified = naip_clipped_21.select(bands).classify(classifier)\n",
        "#classified.getInfo()\n",
        "\n",
        "#clip the classified naip to the Dolores River geometry.\n",
        "classified_naip_21 = classified.clip(dolores_river_geo)\n",
        "\n",
        "# 3. object based removal to remove noise\n",
        "\n",
        "#Find the connected pixels of the same classification (up, down, left, and right)\n",
        "connected = classified_naip_21.connectedComponents(\n",
        "    connectedness=ee.Kernel.plus(1),\n",
        "    maxSize=128\n",
        ")\n",
        "\n",
        "# Get the pixel count for each connected component\n",
        "water_sizes = connected.select('labels').connectedPixelCount(128, True)\n",
        "\n",
        "# Keep only objects with more than 10 pixels\n",
        "dolores_river = classified_naip_21.updateMask(water_sizes.gte(10))\n",
        "\n",
        "#put it on the map-that liquid gold of water\n",
        "m4.addLayer(dolores_river.selfMask(), {\"palette\": \"blue\"}, \"Dolores River\")\n"
      ],
      "metadata": {
        "id": "tLC18ufRoSwH"
      },
      "execution_count": null,
      "outputs": []
    },
    {
      "cell_type": "markdown",
      "source": [
        "#### Evaluate the model using confusion matrix, accuracy, and classifcation results"
      ],
      "metadata": {
        "id": "WStLs50yn67v"
      }
    },
    {
      "cell_type": "code",
      "source": [
        "training_points = ee.data.getAsset(\"users/ajwierda3/NAIP_Dolores_training_points\")\n",
        "\n",
        "# Convert the table asset to a FeatureCollection\n",
        "training_points = ee.FeatureCollection(training_points['id'])\n",
        "\n",
        "bands = ['R', 'G', 'B', 'N']  # NAIP bands\n",
        "\n",
        "#the training geometry points are added to 'samples' that includes the NAIP bands, the class (0=land, 1=water), and the geometries\n",
        "samples = naip_clipped_21.select(bands).sampleRegions(\n",
        "    collection=training_points,\n",
        "    properties=['class'],\n",
        "    scale=1\n",
        ")\n",
        "\n",
        "#'id' is the index, has the DN of each band and its 'class' (0,land and 1,water)\n",
        "#samples.getInfo()\n",
        "\n",
        "#create test/train\n",
        "training_points = samples.randomColumn('random')\n",
        "training_fc = training_points.filter(ee.Filter.lt('random', 0.7))\n",
        "testing_fc = training_points.filter(ee.Filter.gte('random', 0.7))\n",
        "\n",
        "#train the classifier with training_points\n",
        "classifier = ee.Classifier.libsvm().train(\n",
        "    features=training_fc,\n",
        "    classProperty='class',\n",
        "    inputProperties=bands\n",
        ")\n",
        "\n",
        "# Classify the testing set\n",
        "classified_test = testing_fc.classify(classifier)\n",
        "\n",
        "#separate into 'class' (acutal class) and 'classification' (predicted class)\n",
        "y_test = classified_test.aggregate_array('class').getInfo()\n",
        "y_pred = classified_test.aggregate_array('classification').getInfo()\n",
        "\n",
        "from sklearn.metrics import accuracy_score, classification_report, confusion_matrix\n",
        "\n",
        "# Evaluate\n",
        "print(\"Accuracy:\", accuracy_score(y_test, y_pred))\n",
        "print(\"ClassificationReport:\\n\", classification_report(y_test, y_pred))\n",
        "print(\"Confusion Matrix:\\n\", confusion_matrix(y_test, y_pred))\n"
      ],
      "metadata": {
        "id": "HAL2pKAD2DvA"
      },
      "execution_count": null,
      "outputs": []
    },
    {
      "cell_type": "markdown",
      "source": [
        "### Visual Comparision of methods using widgets"
      ],
      "metadata": {
        "id": "f9WwjOkk0it7"
      }
    },
    {
      "cell_type": "code",
      "source": [
        "import ipywidgets as widgets\n",
        "from IPython.display import display\n"
      ],
      "metadata": {
        "id": "hNEdfeA60iJq"
      },
      "execution_count": null,
      "outputs": []
    },
    {
      "cell_type": "code",
      "source": [
        "#create widget with the NAIP maps\n",
        "#simply change the left/right map widget for the 2 to compare\n",
        "left_map_widget = m2\n",
        "right_map_widget = m3\n",
        "\n",
        "maps_container = widgets.HBox([left_map_widget, right_map_widget])\n",
        "display(maps_container)"
      ],
      "metadata": {
        "id": "O4r1HXMJ1KjW"
      },
      "execution_count": null,
      "outputs": []
    },
    {
      "cell_type": "markdown",
      "source": [
        "## Statistical Analysis of Dolores River"
      ],
      "metadata": {
        "id": "XhAsNAt_UNDZ"
      }
    },
    {
      "cell_type": "markdown",
      "source": [
        "### River sinuousity"
      ],
      "metadata": {
        "id": "Llel5ElRZe-x"
      }
    },
    {
      "cell_type": "code",
      "source": [
        "def sinuosity(feature):\n",
        "  line_feature = feature.first()\n",
        "  #Make it a geometry (ie a line)\n",
        "  line_geometry = line_feature.geometry()\n",
        "\n",
        "  #Find the distance between the start and end of the line\n",
        "  # Convert line geometry to a list of coordinates\n",
        "  coords = line_geometry.coordinates()\n",
        "\n",
        "  # Get the first and last coordinates\n",
        "  start = ee.Geometry.Point(coords.get(0))\n",
        "  end = ee.Geometry.Point(coords.get(coords.length().subtract(1)))\n",
        "\n",
        "  #distance in meters\n",
        "  distance = start.distance(end)\n",
        "\n",
        "  #Find the actual length of the river line with maxError of 1m\n",
        "  actual_length = line_geometry.length(maxError=1)\n",
        "\n",
        "  #Find the sinuosity\n",
        "  sinuosity = ee.Number(actual_length).divide(distance)\n",
        "\n",
        "  return sinuosity\n"
      ],
      "metadata": {
        "id": "edh8Q8D3cCp2"
      },
      "execution_count": null,
      "outputs": []
    },
    {
      "cell_type": "code",
      "source": [
        "sinuosity_upper = sinuosity(upper_dolores)\n",
        "print('Upper Dolores sinuosity', sinuosity_upper.getInfo())\n",
        "\n",
        "sinuosity_lower = sinuosity(lower_dolores)\n",
        "print('Lower Dolores sinuosity', sinuosity_lower.getInfo())"
      ],
      "metadata": {
        "id": "EnwMmromdauH"
      },
      "execution_count": null,
      "outputs": []
    },
    {
      "cell_type": "markdown",
      "source": [
        "### Number of Water Pixels"
      ],
      "metadata": {
        "id": "R01sdQAqdNpl"
      }
    },
    {
      "cell_type": "code",
      "source": [
        "# Count pixels using the image of the extracted river, the geometry, and the scale of 1 m per pixel for NAIP imagery\n",
        "pixel_count = dolores_river.reduceRegion(\n",
        "    reducer=ee.Reducer.sum(),\n",
        "    geometry= dolores_river_geo,\n",
        "    scale=1,\n",
        "    maxPixels=1e9\n",
        ")\n",
        "\n",
        "# Print result\n",
        "print('Water pixel count:', pixel_count.getInfo())"
      ],
      "metadata": {
        "id": "bonuNbGGUMmh"
      },
      "execution_count": null,
      "outputs": []
    },
    {
      "cell_type": "markdown",
      "source": [
        "## Analysis Per Year"
      ],
      "metadata": {
        "id": "AhKylUupKeYL"
      }
    },
    {
      "cell_type": "markdown",
      "source": [
        "#### NAIP: June-July 2009 (1 m resolution)"
      ],
      "metadata": {
        "id": "JFbC8_SjKhVK"
      }
    },
    {
      "cell_type": "code",
      "source": [
        "# Load NAIP imagery (1-meter resolution)\n",
        "\n",
        "naip = ee.ImageCollection(\"USDA/NAIP/DOQQ\") \\\n",
        "    .filterBounds(dolores_buffered) \\\n",
        "    .filterDate('2009-06-01', '2009-07-30') \\\n",
        "    .median()\n",
        "\n",
        "# Clip to the buffered area\n",
        "naip_clipped_09 = naip.clip(dolores_buffered)\n",
        "\n",
        "#Extract river\n",
        "\n",
        "# 1. Random Forest Classifier\n",
        "classified = naip_clipped_09.select(bands).classify(classifier)\n",
        "\n",
        "classified_naip = classified.clip(dolores_river_geo)\n",
        "\n",
        "# 2. Object based removal\n",
        "connected = classified_naip.connectedComponents(\n",
        "    connectedness=ee.Kernel.plus(1),\n",
        "    maxSize=128\n",
        ")\n",
        "\n",
        "water_sizes = connected.select('labels').connectedPixelCount(128, True)\n",
        "\n",
        "dolores_river= classified_naip.updateMask(water_sizes.gte(10))\n",
        "\n",
        "#Pixel count\n",
        "\n",
        "pixel_count_09 = dolores_river.reduceRegion(\n",
        "    reducer=ee.Reducer.sum(),\n",
        "    geometry= dolores_river_geo,\n",
        "    scale=1,\n",
        "    maxPixels=1e9\n",
        ")\n",
        "\n",
        "#Convert to square km\n",
        "water_pixel_count = pixel_count_09.get('classification')\n",
        "sqkm_09 = ee.Number(water_pixel_count).multiply(0.001)\n",
        "\n",
        "print('Water square km:', sqkm_09.getInfo())\n"
      ],
      "metadata": {
        "id": "WuIXhLmeLYe1"
      },
      "execution_count": null,
      "outputs": []
    },
    {
      "cell_type": "markdown",
      "source": [
        "#### NAIP: July-Sept. 2011 (1 m resolution)"
      ],
      "metadata": {
        "id": "rE8QTUOqQTev"
      }
    },
    {
      "cell_type": "code",
      "source": [
        "# Load NAIP imagery (1-meter resolution)\n",
        "naip = ee.ImageCollection(\"USDA/NAIP/DOQQ\") \\\n",
        "    .filterBounds(dolores_buffered) \\\n",
        "    .filterDate('2011-07-01', '2011-08-30') \\\n",
        "    .median()\n",
        "\n",
        "# Clip to the buffered area\n",
        "naip_clipped_11 = naip.clip(dolores_buffered)\n",
        "\n",
        "#Extract river\n",
        "\n",
        "# 1. Random Forest Classifier\n",
        "classified = naip_clipped_11.select(bands).classify(classifier)\n",
        "\n",
        "classified_naip = classified.clip(dolores_river_geo)\n",
        "\n",
        "# 2. Object based removal\n",
        "connected = classified_naip.connectedComponents(\n",
        "    connectedness=ee.Kernel.plus(1),\n",
        "    maxSize=128\n",
        ")\n",
        "\n",
        "water_sizes = connected.select('labels').connectedPixelCount(128, True)\n",
        "\n",
        "dolores_river = classified_naip.updateMask(water_sizes.gte(10))\n",
        "\n",
        "#Pixel count\n",
        "\n",
        "pixel_count_11 = dolores_river.reduceRegion(\n",
        "    reducer=ee.Reducer.sum(),\n",
        "    geometry= dolores_river_geo,\n",
        "    scale=1,\n",
        "    maxPixels=1e9\n",
        ")\n",
        "\n",
        "#Convert to square km\n",
        "water_pixel_count = pixel_count_11.get('classification')\n",
        "sqkm_11 = ee.Number(water_pixel_count).multiply(0.001)\n",
        "\n",
        "print('Water square km:', sqkm_11.getInfo())"
      ],
      "metadata": {
        "id": "D-g004HkQgPX"
      },
      "execution_count": null,
      "outputs": []
    },
    {
      "cell_type": "markdown",
      "source": [
        "#### NAIP: Sept.-Oct. 2013 (1 m resolution)"
      ],
      "metadata": {
        "id": "Gbj7e7rHP1ly"
      }
    },
    {
      "cell_type": "code",
      "source": [
        "# Load NAIP imagery (1-meter resolution)\n",
        "naip = ee.ImageCollection(\"USDA/NAIP/DOQQ\") \\\n",
        "    .filterBounds(dolores_buffered) \\\n",
        "    .filterDate('2013-09-01', '2013-10-30') \\\n",
        "    .median()\n",
        "\n",
        "# Clip to the buffered area\n",
        "naip_clipped_13 = naip.clip(dolores_buffered)\n",
        "\n",
        "#Extract river\n",
        "\n",
        "# 1. Random Forest Classifier\n",
        "classified = naip_clipped_13.select(bands).classify(classifier)\n",
        "\n",
        "classified_naip = classified.clip(dolores_river_geo)\n",
        "\n",
        "# 2. Object based removal\n",
        "connected = classified_naip.connectedComponents(\n",
        "    connectedness=ee.Kernel.plus(1),\n",
        "    maxSize=128\n",
        ")\n",
        "\n",
        "water_sizes = connected.select('labels').connectedPixelCount(128, True)\n",
        "\n",
        "dolores_river = classified_naip.updateMask(water_sizes.gte(10))\n",
        "\n",
        "#Pixel count\n",
        "\n",
        "pixel_count_13 = dolores_river.reduceRegion(\n",
        "    reducer=ee.Reducer.sum(),\n",
        "    geometry= dolores_river_geo,\n",
        "    scale=1,\n",
        "    maxPixels=1e9\n",
        ")\n",
        "\n",
        "#Convert to square km\n",
        "water_pixel_count = pixel_count_13.get('classification')\n",
        "sqkm_13 = ee.Number(water_pixel_count).multiply(0.001)\n",
        "\n",
        "print('Water square km:', sqkm_13.getInfo())"
      ],
      "metadata": {
        "id": "1s5rSo9HQGiY"
      },
      "execution_count": null,
      "outputs": []
    },
    {
      "cell_type": "markdown",
      "source": [
        "#### NAIP: Aug.-Sept. 2015 (1 m resolution)"
      ],
      "metadata": {
        "id": "SZbDeldfMD6t"
      }
    },
    {
      "cell_type": "code",
      "source": [
        "# Load NAIP imagery (1-meter resolution)\n",
        "naip = ee.ImageCollection(\"USDA/NAIP/DOQQ\") \\\n",
        "    .filterBounds(dolores_buffered) \\\n",
        "    .filterDate('2015-08-01', '2015-09-30') \\\n",
        "    .median()\n",
        "\n",
        "# Clip to the buffered area\n",
        "naip_clipped_15 = naip.clip(dolores_buffered)\n",
        "\n",
        "#Extract river\n",
        "\n",
        "# 1. Random Forest Classifier\n",
        "classified = naip_clipped_15.select(bands).classify(classifier)\n",
        "\n",
        "classified_naip = classified.clip(dolores_river_geo)\n",
        "\n",
        "# 2. Object based removal\n",
        "connected = classified_naip.connectedComponents(\n",
        "    connectedness=ee.Kernel.plus(1),\n",
        "    maxSize=128\n",
        ")\n",
        "\n",
        "water_sizes = connected.select('labels').connectedPixelCount(128, True)\n",
        "\n",
        "dolores_river = classified_naip.updateMask(water_sizes.gte(10))\n",
        "\n",
        "#Pixel count\n",
        "\n",
        "pixel_count_15 = dolores_river.reduceRegion(\n",
        "    reducer=ee.Reducer.sum(),\n",
        "    geometry= dolores_river_geo,\n",
        "    scale=1,\n",
        "    maxPixels=1e9\n",
        ")\n",
        "\n",
        "#Convert to square km\n",
        "water_pixel_count = pixel_count_15.get('classification')\n",
        "sqkm_15 = ee.Number(water_pixel_count).multiply(0.001)\n",
        "\n",
        "print('Water square km:', sqkm_15.getInfo())"
      ],
      "metadata": {
        "id": "0YBNPlF7MpQJ"
      },
      "execution_count": null,
      "outputs": []
    },
    {
      "cell_type": "markdown",
      "source": [
        "#### NAIP: Aug.-Oct. 2017 (1 m resolution)"
      ],
      "metadata": {
        "id": "bpcEmcLpPTOS"
      }
    },
    {
      "cell_type": "code",
      "source": [
        "# Load NAIP imagery (1-meter resolution)\n",
        "naip = ee.ImageCollection(\"USDA/NAIP/DOQQ\") \\\n",
        "    .filterBounds(dolores_buffered) \\\n",
        "    .filterDate('2017-08-01', '2017-10-30') \\\n",
        "    .median()\n",
        "\n",
        "# Clip to the buffered area\n",
        "naip_clipped_17 = naip.clip(dolores_buffered)\n",
        "\n",
        "#Extract river\n",
        "\n",
        "# 1. Random Forest Classifier\n",
        "classified = naip_clipped_17.select(bands).classify(classifier)\n",
        "\n",
        "classified_naip = classified.clip(dolores_river_geo)\n",
        "\n",
        "# 2. Object based removal\n",
        "connected = classified_naip.connectedComponents(\n",
        "    connectedness=ee.Kernel.plus(1),\n",
        "    maxSize=128\n",
        ")\n",
        "\n",
        "water_sizes = connected.select('labels').connectedPixelCount(128, True)\n",
        "\n",
        "dolores_river = classified_naip.updateMask(water_sizes.gte(10))\n",
        "\n",
        "#Pixel count\n",
        "\n",
        "pixel_count_17 = dolores_river.reduceRegion(\n",
        "    reducer=ee.Reducer.sum(),\n",
        "    geometry= dolores_river_geo,\n",
        "    scale=1,\n",
        "    maxPixels=1e9\n",
        ")\n",
        "\n",
        "#Convert to square km\n",
        "water_pixel_count = pixel_count_17.get('classification')\n",
        "sqkm_17 = ee.Number(water_pixel_count).multiply(0.001)\n",
        "\n",
        "print('Water square km:', sqkm_17.getInfo())"
      ],
      "metadata": {
        "id": "cuWBLfWRPeKK"
      },
      "execution_count": null,
      "outputs": []
    },
    {
      "cell_type": "markdown",
      "source": [
        "#### NAIP: Aug.-Sept. 2019 (0.6 m resolution)"
      ],
      "metadata": {
        "id": "_OEv_y5ROxao"
      }
    },
    {
      "cell_type": "code",
      "source": [
        "# Load NAIP imagery (0.6-meter resolution)\n",
        "naip = ee.ImageCollection(\"USDA/NAIP/DOQQ\") \\\n",
        "    .filterBounds(dolores_buffered) \\\n",
        "    .filterDate('2019-08-01', '2019-09-30') \\\n",
        "    .median()\n",
        "\n",
        "# Clip to the buffered area\n",
        "naip_clipped_19 = naip.clip(dolores_buffered)\n",
        "\n",
        "#Extract river\n",
        "\n",
        "# 1. Random Forest Classifier\n",
        "classified = naip_clipped_19.select(bands).classify(classifier)\n",
        "\n",
        "classified_naip = classified.clip(dolores_river_geo)\n",
        "\n",
        "# 2. Object based removal\n",
        "connected = classified_naip.connectedComponents(\n",
        "    connectedness=ee.Kernel.plus(1),\n",
        "    maxSize=128\n",
        ")\n",
        "\n",
        "water_sizes = connected.select('labels').connectedPixelCount(128, True)\n",
        "\n",
        "dolores_river = classified_naip.updateMask(water_sizes.gte(10))\n",
        "\n",
        "#Pixel count\n",
        "\n",
        "pixel_count_19 = dolores_river.reduceRegion(\n",
        "    reducer=ee.Reducer.sum(),\n",
        "    geometry= dolores_river_geo,\n",
        "    scale=0.6,\n",
        "    maxPixels=1e9\n",
        ")\n",
        "\n",
        "#Convert to square km\n",
        "water_pixel_count = pixel_count_19.get('classification')\n",
        "sqkm_19 = ee.Number(water_pixel_count).multiply(0.001)\n",
        "\n",
        "print('Water square km:', sqkm_19.getInfo())"
      ],
      "metadata": {
        "id": "zuVe9buxO-bG"
      },
      "execution_count": null,
      "outputs": []
    },
    {
      "cell_type": "markdown",
      "source": [
        "#### NAIP: Aug.-Sept. 2021 (0.6 m resolution)"
      ],
      "metadata": {
        "id": "K1ONs92hNY46"
      }
    },
    {
      "cell_type": "code",
      "source": [
        "# Load NAIP imagery (0.6-meter resolution)\n",
        "naip = ee.ImageCollection(\"USDA/NAIP/DOQQ\") \\\n",
        "    .filterBounds(dolores_buffered) \\\n",
        "    .filterDate('2021-08-01', '2021-08-30') \\\n",
        "    .median()\n",
        "\n",
        "# Clip to the buffered area\n",
        "naip_clipped_21 = naip.clip(dolores_buffered)\n",
        "\n",
        "#Extract river\n",
        "\n",
        "# 1. Random Forest Classifier\n",
        "classified = naip_clipped_21.select(bands).classify(classifier)\n",
        "\n",
        "classified_naip = classified.clip(dolores_river_geo)\n",
        "\n",
        "# 2. Object based removal\n",
        "connected = classified_naip.connectedComponents(\n",
        "    connectedness=ee.Kernel.plus(1),\n",
        "    maxSize=128\n",
        ")\n",
        "\n",
        "water_sizes = connected.select('labels').connectedPixelCount(128, True)\n",
        "\n",
        "dolores_river = classified_naip.updateMask(water_sizes.gte(10))\n",
        "\n",
        "#Pixel count\n",
        "\n",
        "pixel_count_21 = dolores_river.reduceRegion(\n",
        "    reducer=ee.Reducer.sum(),\n",
        "    geometry= dolores_river_geo,\n",
        "    scale=0.6,\n",
        "    maxPixels=1e9\n",
        ")\n",
        "\n",
        "#Convert to square km\n",
        "water_pixel_count = pixel_count_21.get('classification')\n",
        "sqkm_21 = ee.Number(water_pixel_count).multiply(0.001)\n",
        "\n",
        "print('Water square km:', sqkm_21.getInfo())"
      ],
      "metadata": {
        "id": "QOdAvhO0NRs8"
      },
      "execution_count": null,
      "outputs": []
    },
    {
      "cell_type": "markdown",
      "source": [
        "#### NAIP: Aug.-Sept. 2023 (0.3 m resolution)"
      ],
      "metadata": {
        "id": "rNisxUULOBgD"
      }
    },
    {
      "cell_type": "code",
      "source": [
        "# Load NAIP imagery (0.3-meter resolution)\n",
        "naip = ee.ImageCollection(\"USDA/NAIP/DOQQ\") \\\n",
        "    .filterBounds(dolores_buffered) \\\n",
        "    .filterDate('2023-08-01', '2023-09-30') \\\n",
        "    .median()\n",
        "\n",
        "# Clip to the buffered area\n",
        "naip_clipped_23 = naip.clip(dolores_buffered)\n",
        "\n",
        "#Extract river\n",
        "\n",
        "# 1. Random Forest Classifier\n",
        "classified = naip_clipped_23.select(bands).classify(classifier)\n",
        "\n",
        "classified_naip = classified.clip(dolores_river_geo)\n",
        "\n",
        "# 2. Object based removal\n",
        "connected = classified_naip.connectedComponents(\n",
        "    connectedness=ee.Kernel.plus(1),\n",
        "    maxSize=128\n",
        ")\n",
        "\n",
        "water_sizes = connected.select('labels').connectedPixelCount(128, True)\n",
        "\n",
        "dolores_river = classified_naip.updateMask(water_sizes.gte(10))\n",
        "\n",
        "#Pixel count\n",
        "\n",
        "pixel_count_23 = dolores_river.reduceRegion(\n",
        "    reducer=ee.Reducer.sum(),\n",
        "    geometry= dolores_river_geo,\n",
        "    scale=0.3,\n",
        "    maxPixels=1e9\n",
        ")\n",
        "\n",
        "#Convert to square meter\n",
        "water_pixel_count = pixel_count_23.get('classification')\n",
        "sqkm_23 = ee.Number(water_pixel_count).multiply(0.001)\n",
        "\n",
        "print('Water square km:', sqkm_23.getInfo())"
      ],
      "metadata": {
        "id": "WmP5__NDOBI1"
      },
      "execution_count": null,
      "outputs": []
    },
    {
      "cell_type": "markdown",
      "source": [
        "### Plot Water Surface Area in Square Meters, adjusted for resolution"
      ],
      "metadata": {
        "id": "oMj78J6jQ3k1"
      }
    },
    {
      "cell_type": "code",
      "source": [
        "import matplotlib.pyplot as plt\n",
        "\n",
        "# Sample data: years and a variable (e.g., water area in sq km)\n",
        "years = [2009, 2011, 2013, 2015, 2017, 2019, 2021, 2023]\n",
        "water_area = [sqkm_09.getInfo(), sqkm_11.getInfo(), sqkm_13.getInfo(), sqkm_15.getInfo(), sqkm_17.getInfo(), sqkm_19.getInfo(), sqkm_21.getInfo(), sqkm_23.getInfo()]\n",
        "\n",
        "# Plot the line graph\n",
        "plt.plot(years, water_area, marker='o', linestyle='-', color='blue')\n",
        "\n",
        "# Add labels and title\n",
        "plt.xlabel('Year')\n",
        "plt.ylabel('Water Area (sq km)')\n",
        "plt.title('Water Area Over Time')\n",
        "plt.grid(True)\n",
        "\n",
        "# Show the graph\n",
        "plt.show()\n",
        "\n"
      ],
      "metadata": {
        "id": "bXEkAmvChvIS"
      },
      "execution_count": null,
      "outputs": []
    }
  ]
}